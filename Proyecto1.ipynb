{
 "cells": [
  {
   "cell_type": "markdown",
   "id": "1214550a-f928-46eb-9f54-c720935adbb5",
   "metadata": {},
   "source": [
    "# Proyecto 1 - Análitica de Textos \n",
    "\n",
    "Camilo Andrés Castilla 202122138 <br>\n",
    "Sara Martinez 202221055"
   ]
  },
  {
   "cell_type": "markdown",
   "id": "939e5fb8-bffd-40de-9e4b-1921465e0179",
   "metadata": {},
   "source": [
    "## Parte 2: Preparación y Entendimiento de Datos"
   ]
  },
  {
   "cell_type": "markdown",
   "id": "de7c0748-38cd-4ef5-a7dd-8adc0b3c8739",
   "metadata": {},
   "source": [
    "### Introducción al Dataset y Carga de los Datos"
   ]
  },
  {
   "cell_type": "code",
   "execution_count": 45,
   "id": "20b08c22-260a-4d64-ae93-d937888b6ed4",
   "metadata": {},
   "outputs": [
    {
     "name": "stdout",
     "output_type": "stream",
     "text": [
      "Primeras 5 filas del dataset:\n"
     ]
    },
    {
     "data": {
      "text/html": [
       "<div>\n",
       "<style scoped>\n",
       "    .dataframe tbody tr th:only-of-type {\n",
       "        vertical-align: middle;\n",
       "    }\n",
       "\n",
       "    .dataframe tbody tr th {\n",
       "        vertical-align: top;\n",
       "    }\n",
       "\n",
       "    .dataframe thead th {\n",
       "        text-align: right;\n",
       "    }\n",
       "</style>\n",
       "<table border=\"1\" class=\"dataframe\">\n",
       "  <thead>\n",
       "    <tr style=\"text-align: right;\">\n",
       "      <th></th>\n",
       "      <th>textos</th>\n",
       "      <th>labels</th>\n",
       "    </tr>\n",
       "  </thead>\n",
       "  <tbody>\n",
       "    <tr>\n",
       "      <th>0</th>\n",
       "      <td>\"Aprendizaje\" y \"educación\" se consideran sinónimos de escolarización formal. Las organizaciones auxiliares, como las editoriales de educación, las juntas examinadoras y las organizaciones de formación de docentes, se consideran extensiones de los acuerdos establecidos por los gobiernos. Este marco de comprensión se ha vuelto cada vez más inadecuado.</td>\n",
       "      <td>4</td>\n",
       "    </tr>\n",
       "    <tr>\n",
       "      <th>1</th>\n",
       "      <td>Para los niños más pequeños (bebés y niños pequeños), la capacitación especializada y práctica parece estar más fuertemente asociada con la calidad pedagógica y los resultados cognitivos y sociales. Los educadores de la primera infancia se encuentran con entornos sociales cada vez más complejos y se encuentran con una multiplicidad de antecedentes y experiencias familiares. Estos factores crean imperativos para adoptar nuevas pedagogías y prácticas organizacionales para acomodar este pluralismo (Elliott, 2006).</td>\n",
       "      <td>4</td>\n",
       "    </tr>\n",
       "    <tr>\n",
       "      <th>2</th>\n",
       "      <td>Además, la formación de especialistas en medicina general también incluye tareas que requieren un conocimiento más profundo de problemas comunes de salud pública, incluida la salud mental (Cuestionario de salud mental de la OCDE, 2013). Dado que no hay control en la atención primaria para limitar el acceso a los servicios de salud (mental) especializados, muchos pacientes que necesitan tratamiento (para trastornos mentales graves en particular) pueden buscar atención de nivel especializado directamente. Los servicios de especialistas en psiquiatría se brindan principalmente en las salas ambulatorias de psiquiatría ubicadas en los hospitales generales.</td>\n",
       "      <td>3</td>\n",
       "    </tr>\n",
       "    <tr>\n",
       "      <th>3</th>\n",
       "      <td>En los países de la OCDE se tiende a pasar de los cursos obligatorios a los optativos, abiertos a estudiantes de distintas facultades y escuelas. Este planteamiento facilita la formación de equipos de estudiantes con distintas formaciones e intereses. El trabajo en equipos interdisciplinares permite a los individuos concentrarse en lo que mejor saben y les gusta y, al mismo tiempo, familiarizarse con nuevos conocimientos que pueden asociarse a una nueva forma de resolver un problema o crear un nuevo producto o servicio. No está claro hasta qué punto estos cursos utilizan métodos pedagógicos creativos y se adaptan a las necesidades de los estudiantes de grado, postgrado y licenciatura.</td>\n",
       "      <td>4</td>\n",
       "    </tr>\n",
       "    <tr>\n",
       "      <th>4</th>\n",
       "      <td>Este grupo se centró en las personas que padecen trastornos mentales con comorbilidad de abuso de sustancias (mientras que la demencia, la discapacidad intelectual y el abuso de sustancias por sà solos quedaron excluidos del ámbito de análisis). Con 90 millones de euros de financiación, la comisión dispuso de tres años para \"iniciar y apoyar el desarrollo de proyectos a todos los niveles (tratamiento médico, mejora de los servicios, proyectos de vivienda, mejoras legislativas y organizativas) y proponer las medidas necesarias para elevar de forma permanente el nivel de los servicios de salud mental\".</td>\n",
       "      <td>3</td>\n",
       "    </tr>\n",
       "  </tbody>\n",
       "</table>\n",
       "</div>"
      ],
      "text/plain": [
       "                                                                                                                                                                                                                                                                                                                                                                                                                                                                                                                                                                                                                                                                                                                  textos  \\\n",
       "0                                                                                                                                                                                                                                                                                                                                                       \"Aprendizaje\" y \"educación\" se consideran sinónimos de escolarización formal. Las organizaciones auxiliares, como las editoriales de educación, las juntas examinadoras y las organizaciones de formación de docentes, se consideran extensiones de los acuerdos establecidos por los gobiernos. Este marco de comprensión se ha vuelto cada vez más inadecuado.   \n",
       "1                                                                                                                                                                                   Para los niños más pequeños (bebés y niños pequeños), la capacitación especializada y práctica parece estar más fuertemente asociada con la calidad pedagógica y los resultados cognitivos y sociales. Los educadores de la primera infancia se encuentran con entornos sociales cada vez más complejos y se encuentran con una multiplicidad de antecedentes y experiencias familiares. Estos factores crean imperativos para adoptar nuevas pedagogías y prácticas organizacionales para acomodar este pluralismo (Elliott, 2006).   \n",
       "2                                    Además, la formación de especialistas en medicina general también incluye tareas que requieren un conocimiento más profundo de problemas comunes de salud pública, incluida la salud mental (Cuestionario de salud mental de la OCDE, 2013). Dado que no hay control en la atención primaria para limitar el acceso a los servicios de salud (mental) especializados, muchos pacientes que necesitan tratamiento (para trastornos mentales graves en particular) pueden buscar atención de nivel especializado directamente. Los servicios de especialistas en psiquiatría se brindan principalmente en las salas ambulatorias de psiquiatría ubicadas en los hospitales generales.   \n",
       "3  En los países de la OCDE se tiende a pasar de los cursos obligatorios a los optativos, abiertos a estudiantes de distintas facultades y escuelas. Este planteamiento facilita la formación de equipos de estudiantes con distintas formaciones e intereses. El trabajo en equipos interdisciplinares permite a los individuos concentrarse en lo que mejor saben y les gusta y, al mismo tiempo, familiarizarse con nuevos conocimientos que pueden asociarse a una nueva forma de resolver un problema o crear un nuevo producto o servicio. No está claro hasta qué punto estos cursos utilizan métodos pedagógicos creativos y se adaptan a las necesidades de los estudiantes de grado, postgrado y licenciatura.   \n",
       "4                                                                                       Este grupo se centró en las personas que padecen trastornos mentales con comorbilidad de abuso de sustancias (mientras que la demencia, la discapacidad intelectual y el abuso de sustancias por sà solos quedaron excluidos del ámbito de análisis). Con 90 millones de euros de financiación, la comisión dispuso de tres años para \"iniciar y apoyar el desarrollo de proyectos a todos los niveles (tratamiento médico, mejora de los servicios, proyectos de vivienda, mejoras legislativas y organizativas) y proponer las medidas necesarias para elevar de forma permanente el nivel de los servicios de salud mental\".    \n",
       "\n",
       "   labels  \n",
       "0       4  \n",
       "1       4  \n",
       "2       3  \n",
       "3       4  \n",
       "4       3  "
      ]
     },
     "metadata": {},
     "output_type": "display_data"
    }
   ],
   "source": [
    "# Importamos pandas para manejar el dataset\n",
    "import pandas as pd\n",
    "\n",
    "df = pd.read_excel('Datos_proyecto.xlsx')\n",
    "\n",
    "# Primeras filas de los datos para entender mejor su estructura\n",
    "print(\"Primeras 5 filas del dataset:\")\n",
    "pd.set_option(\"display.max_colwidth\", None)  # muestra todo el texto sin cortar\n",
    "display(df.head())\n",
    "\n"
   ]
  },
  {
   "cell_type": "code",
   "execution_count": 46,
   "id": "437e7529-3bef-4cf2-bbc8-3c11f04227ea",
   "metadata": {},
   "outputs": [
    {
     "name": "stdout",
     "output_type": "stream",
     "text": [
      "\n",
      "Información general del dataset:\n",
      "<class 'pandas.core.frame.DataFrame'>\n",
      "RangeIndex: 2424 entries, 0 to 2423\n",
      "Data columns (total 2 columns):\n",
      " #   Column  Non-Null Count  Dtype \n",
      "---  ------  --------------  ----- \n",
      " 0   textos  2424 non-null   object\n",
      " 1   labels  2424 non-null   int64 \n",
      "dtypes: int64(1), object(1)\n",
      "memory usage: 38.0+ KB\n"
     ]
    }
   ],
   "source": [
    "# Obtención de información general sobre las columnas y tipos de datos\n",
    "print(\"\\nInformación general del dataset:\")\n",
    "df.info()"
   ]
  },
  {
   "cell_type": "markdown",
   "id": "cbca168f-65e7-40e2-97b7-636defb960f9",
   "metadata": {},
   "source": [
    "### Análisis descriptivo de la columna <span style=\"color:blue;\"><em>textos</em></span>\n",
    "En esta sección nos centraremos en analizar el campo \"textos\" del dataset.\n",
    "\n",
    "Este campo contiene las opiniones de los ciudadanos escritas en lenguaje natural. Cada fila corresponde a un comentario o opinión que refleja la percepción de una persona sobre algún tema relacionado con los Objetivos de Desarrollo Sostenible (ODS).\n",
    "Nuestro objetivo es entender la calidad, cantidad y características textuales de esta información para preparar análisis posteriores."
   ]
  },
  {
   "cell_type": "code",
   "execution_count": 47,
   "id": "24423ce4-9176-4b25-bea8-15dae75ff40c",
   "metadata": {},
   "outputs": [
    {
     "name": "stdout",
     "output_type": "stream",
     "text": [
      "Número de valores nulos en 'labels': 0\n",
      "Número de valores vacíos en 'labels': 0\n"
     ]
    }
   ],
   "source": [
    "# Verificamos nulos y vacíos en la columna Description\n",
    "num_nulls = df['textos'].isnull().sum()\n",
    "num_empty = (df['textos'].str.strip() == '').sum()\n",
    "\n",
    "print(f\"Número de valores nulos en 'labels': {num_nulls}\")\n",
    "print(f\"Número de valores vacíos en 'labels': {num_empty}\")"
   ]
  },
  {
   "cell_type": "code",
   "execution_count": 54,
   "id": "791cca2d-492f-4605-b3b6-4b49210c336e",
   "metadata": {},
   "outputs": [],
   "source": [
    "# Calculamos longitud de cada texto\n",
    "df['text_length'] = df['textos'].str.len()"
   ]
  },
  {
   "cell_type": "code",
   "execution_count": 55,
   "id": "22e10fec-d186-421d-bfe7-6abb2e532d78",
   "metadata": {},
   "outputs": [
    {
     "name": "stdout",
     "output_type": "stream",
     "text": [
      "\n",
      "Estadísticas básicas de longitud de los textos:\n",
      "count    2424.000000\n",
      "mean      683.223185\n",
      "std       223.563695\n",
      "min       303.000000\n",
      "25%       513.000000\n",
      "50%       647.000000\n",
      "75%       809.250000\n",
      "max      1492.000000\n",
      "Name: text_length, dtype: float64\n"
     ]
    }
   ],
   "source": [
    "# Estadísticas básicas sobre la longitud\n",
    "text_lenght_stats = df['text_length'].describe()\n",
    "print(\"\\nEstadísticas básicas de longitud de los textos:\")\n",
    "print(text_lenght_stats)"
   ]
  },
  {
   "cell_type": "code",
   "execution_count": 56,
   "id": "230de942-32ac-4bf1-9d84-8d35072a988a",
   "metadata": {},
   "outputs": [
    {
     "name": "stdout",
     "output_type": "stream",
     "text": [
      "\n",
      "Ejemplos de textos:\n"
     ]
    },
    {
     "data": {
      "text/html": [
       "<div>\n",
       "<style scoped>\n",
       "    .dataframe tbody tr th:only-of-type {\n",
       "        vertical-align: middle;\n",
       "    }\n",
       "\n",
       "    .dataframe tbody tr th {\n",
       "        vertical-align: top;\n",
       "    }\n",
       "\n",
       "    .dataframe thead th {\n",
       "        text-align: right;\n",
       "    }\n",
       "</style>\n",
       "<table border=\"1\" class=\"dataframe\">\n",
       "  <thead>\n",
       "    <tr style=\"text-align: right;\">\n",
       "      <th></th>\n",
       "      <th>textos</th>\n",
       "      <th>labels</th>\n",
       "    </tr>\n",
       "  </thead>\n",
       "  <tbody>\n",
       "    <tr>\n",
       "      <th>1490</th>\n",
       "      <td>Por lo general, se entiende que los trastornos de leves a moderados no requieren tratamientos altamente especializados administrados por psiquiatras o en entornos hospitalarios en la gran mayoría de los casos. En cambio, en la mayoría de los países de la OCDE, los médicos de atención primaria asumen un papel de liderazgo en el tratamiento de trastornos leves a moderados (ver Tabla 4.2). Cuando la provisión a nivel de atención primaria para los trastornos leves a moderados está respaldada por una buena capacitación (tanto durante la capacitación médica como como parte de la educación médica continua), por el apoyo de profesionales especialistas en atención de la salud mental y redes de apoyo, y por buenas opciones de derivación si un paciente necesita acceder a un nivel de atención más especializado, puede ser una forma muy eficaz de brindar atención a un gran número de pacientes.</td>\n",
       "      <td>3</td>\n",
       "    </tr>\n",
       "    <tr>\n",
       "      <th>387</th>\n",
       "      <td>En la mayoría de los contratos, el objetivo es llegar a cuatro o cinco pacientes por hora, cumpliendo también con los estándares de calidad especificados. En la encuesta nacional de salud de 2006, por ejemplo, el 31% de la población reportó obtener servicios de salud del sector privado al menos una vez al año, independientemente de su cobertura bajo la CCSS. En 2009, el 60% de los encuestados afirmó que prefería proveedores privados de atención médica (Gutiérrez, 2009).</td>\n",
       "      <td>3</td>\n",
       "    </tr>\n",
       "    <tr>\n",
       "      <th>1419</th>\n",
       "      <td>Las tasas de consumo de alcohol y tabaquismo no han disminuido y se encuentran entre las más altas de la UE. Las tasas de obesidad, aunque siguen siendo más bajas que en muchos otros países de la UE, están aumentando tanto en adultos como en adolescentes. Alentadoramente, las tasas de tabaquismo entre los adolescentes disminuyeron en los últimos años y Austria finalmente se está poniendo al día con otros países de la UE en términos de políticas para la protección de los no fumadores, por ejemplo, mediante la introducción de una prohibición total de fumar en restaurantes y bares. Se pusieron en marcha Planes Nacionales de Acción sobre Nutrición y Actividad Física para contrarrestar el aumento de la obesidad.</td>\n",
       "      <td>3</td>\n",
       "    </tr>\n",
       "    <tr>\n",
       "      <th>410</th>\n",
       "      <td>Hubo una disminución constante en el porcentaje de estudiantes que afirmaron un alto nivel de satisfacción con la vida, con proporciones más bajas para las niñas en comparación con los niños para cada año de administración de la encuesta (con la excepción de 2006). Una tendencia notable que surgió del análisis de los datos fue la asociación entre un fuerte apoyo social, particularmente el apoyo familiar, y una alta satisfacción con la vida. Este hallazgo subraya el papel fundamental que desempeñan las relaciones positivas y las redes sociales sólidas para contribuir y mejorar el bienestar psicológico de los estudiantes. (Morrison y Peterson, 2016, págs.</td>\n",
       "      <td>4</td>\n",
       "    </tr>\n",
       "    <tr>\n",
       "      <th>482</th>\n",
       "      <td>La oferta insuficiente de programas vocacionales de alta calidad y lugares de estudio de educación terciaria obstaculiza la formación y el crecimiento del capital humano. Estabilizar y simplificar la educación vocacional al enfocarse más en aprendizajes de alta calidad apoyaría la participación. El gobierno necesita encontrar medidas eficientes para aumentar la participación, especialmente entre los niños de familias de bajos ingresos, para reemplazar el subsidio de mantenimiento educativo abolido. Reformas adicionales a la financiación de la educación superior podrían reducir los costos de los contribuyentes y ayudar a financiar una expansión necesaria en el sector. The Implications of School Fundingâ€, CfBT Education Trust Research Paper. Medición de la variación en la efectividad de los maestros en Inglaterra\", documento de trabajo 09/212 del Centro para el Mercado y la Organización Pública, Universidad de Bristol.</td>\n",
       "      <td>4</td>\n",
       "    </tr>\n",
       "  </tbody>\n",
       "</table>\n",
       "</div>"
      ],
      "text/plain": [
       "                                                                                                                                                                                                                                                                                                                                                                                                                                                                                                                                                                                                                                                                                                                                                                                                                                                                                                                                                                   textos  \\\n",
       "1490                                         Por lo general, se entiende que los trastornos de leves a moderados no requieren tratamientos altamente especializados administrados por psiquiatras o en entornos hospitalarios en la gran mayoría de los casos. En cambio, en la mayoría de los países de la OCDE, los médicos de atención primaria asumen un papel de liderazgo en el tratamiento de trastornos leves a moderados (ver Tabla 4.2). Cuando la provisión a nivel de atención primaria para los trastornos leves a moderados está respaldada por una buena capacitación (tanto durante la capacitación médica como como parte de la educación médica continua), por el apoyo de profesionales especialistas en atención de la salud mental y redes de apoyo, y por buenas opciones de derivación si un paciente necesita acceder a un nivel de atención más especializado, puede ser una forma muy eficaz de brindar atención a un gran número de pacientes.   \n",
       "387                                                                                                                                                                                                                                                                                                                                                                                                                                                                            En la mayoría de los contratos, el objetivo es llegar a cuatro o cinco pacientes por hora, cumpliendo también con los estándares de calidad especificados. En la encuesta nacional de salud de 2006, por ejemplo, el 31% de la población reportó obtener servicios de salud del sector privado al menos una vez al año, independientemente de su cobertura bajo la CCSS. En 2009, el 60% de los encuestados afirmó que prefería proveedores privados de atención médica (Gutiérrez, 2009).   \n",
       "1419                                                                                                                                                                                                                         Las tasas de consumo de alcohol y tabaquismo no han disminuido y se encuentran entre las más altas de la UE. Las tasas de obesidad, aunque siguen siendo más bajas que en muchos otros países de la UE, están aumentando tanto en adultos como en adolescentes. Alentadoramente, las tasas de tabaquismo entre los adolescentes disminuyeron en los últimos años y Austria finalmente se está poniendo al día con otros países de la UE en términos de políticas para la protección de los no fumadores, por ejemplo, mediante la introducción de una prohibición total de fumar en restaurantes y bares. Se pusieron en marcha Planes Nacionales de Acción sobre Nutrición y Actividad Física para contrarrestar el aumento de la obesidad.   \n",
       "410                                                                                                                                                                                                                                                                                 Hubo una disminución constante en el porcentaje de estudiantes que afirmaron un alto nivel de satisfacción con la vida, con proporciones más bajas para las niñas en comparación con los niños para cada año de administración de la encuesta (con la excepción de 2006). Una tendencia notable que surgió del análisis de los datos fue la asociación entre un fuerte apoyo social, particularmente el apoyo familiar, y una alta satisfacción con la vida. Este hallazgo subraya el papel fundamental que desempeñan las relaciones positivas y las redes sociales sólidas para contribuir y mejorar el bienestar psicológico de los estudiantes. (Morrison y Peterson, 2016, págs.   \n",
       "482   La oferta insuficiente de programas vocacionales de alta calidad y lugares de estudio de educación terciaria obstaculiza la formación y el crecimiento del capital humano. Estabilizar y simplificar la educación vocacional al enfocarse más en aprendizajes de alta calidad apoyaría la participación. El gobierno necesita encontrar medidas eficientes para aumentar la participación, especialmente entre los niños de familias de bajos ingresos, para reemplazar el subsidio de mantenimiento educativo abolido. Reformas adicionales a la financiación de la educación superior podrían reducir los costos de los contribuyentes y ayudar a financiar una expansión necesaria en el sector. The Implications of School Fundingâ€, CfBT Education Trust Research Paper. Medición de la variación en la efectividad de los maestros en Inglaterra\", documento de trabajo 09/212 del Centro para el Mercado y la Organización Pública, Universidad de Bristol.   \n",
       "\n",
       "      labels  \n",
       "1490       3  \n",
       "387        3  \n",
       "1419       3  \n",
       "410        4  \n",
       "482        4  "
      ]
     },
     "metadata": {},
     "output_type": "display_data"
    }
   ],
   "source": [
    "# Visualización de algunas muestras representativas\n",
    "print(\"\\nEjemplos de textos:\")\n",
    "display(df[['textos', 'labels']].sample(5, random_state=42))"
   ]
  },
  {
   "cell_type": "code",
   "execution_count": 57,
   "id": "1891825c-2692-4418-be45-08371b98eef7",
   "metadata": {},
   "outputs": [
    {
     "data": {
      "text/plain": [
       "False"
      ]
     },
     "execution_count": 57,
     "metadata": {},
     "output_type": "execute_result"
    }
   ],
   "source": [
    "#Verificamos ahora si la columna labels tiene algun valor vacio\n",
    "df['labels'].isnull().any()\n"
   ]
  },
  {
   "cell_type": "code",
   "execution_count": 58,
   "id": "a82e4c0f-0216-45f3-ba93-09497ffa0628",
   "metadata": {},
   "outputs": [
    {
     "data": {
      "text/plain": [
       "<Figure size 1000x600 with 0 Axes>"
      ]
     },
     "metadata": {},
     "output_type": "display_data"
    },
    {
     "data": {
      "image/png": "[encoded data removed]",
      "text/plain": [
       "<Figure size 640x480 with 1 Axes>"
      ]
     },
     "metadata": {},
     "output_type": "display_data"
    },
    {
     "data": {
      "image/png": "[encoded data removed]",
      "text/plain": [
       "<Figure size 1000x600 with 1 Axes>"
      ]
     },
     "metadata": {},
     "output_type": "display_data"
    }
   ],
   "source": [
    "import matplotlib.pyplot as plt\n",
    "\n",
    "#Como no hay ningun valor vacio podemos continuar\n",
    "#Ahora, parece interesante ver un grafico que muestre la longitud de las palabras dependiendo de su label a ver si\n",
    "#pudiera existir alguna relación entre su longitud y la clasificación que tiene \n",
    "\n",
    "# Agrupamos para calcular las estadisticas por label \n",
    "grouped = df.groupby('labels')['text_length'].agg(['mean', 'min', 'max']).dropna()\n",
    "\n",
    "\n",
    "#Primero queremos ver un boxplot para cada label \n",
    "plt.figure(figsize=(10,6))\n",
    "df.boxplot(column='text_length', by='labels', grid=False)\n",
    "plt.title('Distribución de la longitud del texto por label')\n",
    "plt.suptitle('')  # quita el título automático de pandas\n",
    "plt.xlabel('Label')\n",
    "plt.ylabel('Longitud del texto (número de caracteres)')\n",
    "plt.show()\n",
    "\n",
    "#Ahora queremos ver simplemente el promedio\n",
    "grouped = df.groupby('labels')['text_length'].mean()\n",
    "\n",
    "grouped = df.groupby('labels')['text_length'].mean()\n",
    "\n",
    "plt.figure(figsize=(10,6))\n",
    "bars = grouped.plot(kind='bar', color='skyblue', edgecolor='black')\n",
    "\n",
    "plt.title('Longitud promedio del texto por label')\n",
    "plt.xlabel('Label')\n",
    "plt.ylabel('Longitud promedio (número de caracteres)')\n",
    "plt.xticks(rotation=0)\n",
    "\n",
    "# Agregar los valores encima de cada barra\n",
    "for i, valor in enumerate(grouped):\n",
    "    plt.text(i, valor + 1, f\"{valor:.1f}\", ha='center', va='bottom', fontsize=10, fontweight='bold')\n",
    "\n",
    "plt.show()\n",
    "\n"
   ]
  },
  {
   "cell_type": "markdown",
   "id": "81e5e091-7014-4b1d-93a9-bf45072554eb",
   "metadata": {},
   "source": [
    "Con base en los boxplots, es posible ver que para cada label hay cierto número de outliers. Esto indica que para cada label, hay textos con un número de caracteres muy alto, lo cual no necesariamente indica un error sino que los textos muy largos son poco frecuentes. De igual forma, el boxplot indica que los textos de cada label son altamente homogeneos, teniendo en cuenta que tienen una media y distribución similar. "
   ]
  },
  {
   "cell_type": "markdown",
   "id": "2f2db554-72c7-45e1-b622-f5d94284b6e3",
   "metadata": {},
   "source": [
    "### Procesamiento de texto: tokenización y limpieza de palabras\n",
    "\n",
    "Vamos a procesar el texto de los datos para hacer un análisis basado en las palabras. Usaremos el campo \"textos\" y transformaremos cada texto en una lista de palabras limpias y significativas. Este paso lo vamos a usar para realizar un análisis posterior de frecuencia y relevancia de palabras. "
   ]
  },
  {
   "cell_type": "code",
   "execution_count": 77,
   "id": "e06de6ea-230b-4eb4-8ccc-e79d0e00dfba",
   "metadata": {},
   "outputs": [
    {
     "name": "stderr",
     "output_type": "stream",
     "text": [
      "[nltk_data] Downloading package stopwords to\n",
      "[nltk_data]     /Users/camilo/nltk_data...\n",
      "[nltk_data]   Package stopwords is already up-to-date!\n"
     ]
    },
    {
     "name": "stdout",
     "output_type": "stream",
     "text": [
      "Ejemplos de tokens en los primeros textos:\n"
     ]
    },
    {
     "data": {
      "text/html": [
       "<div>\n",
       "<style scoped>\n",
       "    .dataframe tbody tr th:only-of-type {\n",
       "        vertical-align: middle;\n",
       "    }\n",
       "\n",
       "    .dataframe tbody tr th {\n",
       "        vertical-align: top;\n",
       "    }\n",
       "\n",
       "    .dataframe thead th {\n",
       "        text-align: right;\n",
       "    }\n",
       "</style>\n",
       "<table border=\"1\" class=\"dataframe\">\n",
       "  <thead>\n",
       "    <tr style=\"text-align: right;\">\n",
       "      <th></th>\n",
       "      <th>textos</th>\n",
       "      <th>tokens</th>\n",
       "    </tr>\n",
       "  </thead>\n",
       "  <tbody>\n",
       "    <tr>\n",
       "      <th>0</th>\n",
       "      <td>\"Aprendizaje\" y \"educación\" se consideran sinónimos de escolarización formal. Las organizaciones auxiliares, como las editoriales de educación, las juntas examinadoras y las organizaciones de formación de docentes, se consideran extensiones de los acuerdos establecidos por los gobiernos. Este marco de comprensión se ha vuelto cada vez más inadecuado.</td>\n",
       "      <td>[aprendizaje, educación, consideran, sinónimos, escolarización, formal, organizaciones, auxiliares, editoriales, educación, juntas, examinadoras, organizaciones, formación, docentes, consideran, extensiones, acuerdos, establecidos, gobiernos, marco, comprensión, vuelto, cada, vez, inadecuado]</td>\n",
       "    </tr>\n",
       "    <tr>\n",
       "      <th>1</th>\n",
       "      <td>Para los niños más pequeños (bebés y niños pequeños), la capacitación especializada y práctica parece estar más fuertemente asociada con la calidad pedagógica y los resultados cognitivos y sociales. Los educadores de la primera infancia se encuentran con entornos sociales cada vez más complejos y se encuentran con una multiplicidad de antecedentes y experiencias familiares. Estos factores crean imperativos para adoptar nuevas pedagogías y prácticas organizacionales para acomodar este pluralismo (Elliott, 2006).</td>\n",
       "      <td>[niños, pequeños, bebés, niños, pequeños, capacitación, especializada, práctica, parece, fuertemente, asociada, calidad, pedagógica, resultados, cognitivos, sociales, educadores, primera, infancia, encuentran, entornos, sociales, cada, vez, complejos, encuentran, multiplicidad, antecedentes, experiencias, familiares, factores, crean, imperativos, adoptar, nuevas, pedagogías, prácticas, organizacionales, acomodar, pluralismo, elliott, 2006]</td>\n",
       "    </tr>\n",
       "    <tr>\n",
       "      <th>2</th>\n",
       "      <td>Además, la formación de especialistas en medicina general también incluye tareas que requieren un conocimiento más profundo de problemas comunes de salud pública, incluida la salud mental (Cuestionario de salud mental de la OCDE, 2013). Dado que no hay control en la atención primaria para limitar el acceso a los servicios de salud (mental) especializados, muchos pacientes que necesitan tratamiento (para trastornos mentales graves en particular) pueden buscar atención de nivel especializado directamente. Los servicios de especialistas en psiquiatría se brindan principalmente en las salas ambulatorias de psiquiatría ubicadas en los hospitales generales.</td>\n",
       "      <td>[además, formación, especialistas, medicina, general, incluye, tareas, requieren, conocimiento, profundo, problemas, comunes, salud, pública, incluida, salud, mental, cuestionario, salud, mental, ocde, 2013, dado, control, atención, primaria, limitar, acceso, servicios, salud, mental, especializados, pacientes, necesitan, tratamiento, trastornos, mentales, graves, particular, pueden, buscar, atención, nivel, especializado, directamente, servicios, especialistas, psiquiatría, brindan, principalmente, salas, ambulatorias, psiquiatría, ubicadas, hospitales, generales]</td>\n",
       "    </tr>\n",
       "    <tr>\n",
       "      <th>3</th>\n",
       "      <td>En los países de la OCDE se tiende a pasar de los cursos obligatorios a los optativos, abiertos a estudiantes de distintas facultades y escuelas. Este planteamiento facilita la formación de equipos de estudiantes con distintas formaciones e intereses. El trabajo en equipos interdisciplinares permite a los individuos concentrarse en lo que mejor saben y les gusta y, al mismo tiempo, familiarizarse con nuevos conocimientos que pueden asociarse a una nueva forma de resolver un problema o crear un nuevo producto o servicio. No está claro hasta qué punto estos cursos utilizan métodos pedagógicos creativos y se adaptan a las necesidades de los estudiantes de grado, postgrado y licenciatura.</td>\n",
       "      <td>[países, ocde, tiende, pasar, cursos, obligatorios, optativos, abiertos, estudiantes, distintas, facultades, escuelas, planteamiento, facilita, formación, equipos, estudiantes, distintas, formaciones, intereses, trabajo, equipos, interdisciplinares, permite, individuos, concentrarse, mejor, saben, gusta, mismo, tiempo, familiarizarse, nuevos, conocimientos, pueden, asociarse, nueva, forma, resolver, problema, crear, nuevo, producto, servicio, claro, punto, cursos, utilizan, métodos, pedagógicos, creativos, adaptan, necesidades, estudiantes, grado, postgrado, licenciatura]</td>\n",
       "    </tr>\n",
       "    <tr>\n",
       "      <th>4</th>\n",
       "      <td>Este grupo se centró en las personas que padecen trastornos mentales con comorbilidad de abuso de sustancias (mientras que la demencia, la discapacidad intelectual y el abuso de sustancias por sà solos quedaron excluidos del ámbito de análisis). Con 90 millones de euros de financiación, la comisión dispuso de tres años para \"iniciar y apoyar el desarrollo de proyectos a todos los niveles (tratamiento médico, mejora de los servicios, proyectos de vivienda, mejoras legislativas y organizativas) y proponer las medidas necesarias para elevar de forma permanente el nivel de los servicios de salud mental\".</td>\n",
       "      <td>[grupo, centró, personas, padecen, trastornos, mentales, comorbilidad, abuso, sustancias, mientras, demencia, discapacidad, intelectual, abuso, sustancias, sà, solos, quedaron, excluidos, ámbito, análisis, 90, millones, euros, financiación, comisión, dispuso, tres, años, iniciar, apoyar, desarrollo, proyectos, niveles, tratamiento, médico, mejora, servicios, proyectos, vivienda, mejoras, legislativas, organizativas, proponer, medidas, necesarias, elevar, forma, permanente, nivel, servicios, salud, mental]</td>\n",
       "    </tr>\n",
       "  </tbody>\n",
       "</table>\n",
       "</div>"
      ],
      "text/plain": [
       "                                                                                                                                                                                                                                                                                                                                                                                                                                                                                                                                                                                                                                                                                                                  textos  \\\n",
       "0                                                                                                                                                                                                                                                                                                                                                       \"Aprendizaje\" y \"educación\" se consideran sinónimos de escolarización formal. Las organizaciones auxiliares, como las editoriales de educación, las juntas examinadoras y las organizaciones de formación de docentes, se consideran extensiones de los acuerdos establecidos por los gobiernos. Este marco de comprensión se ha vuelto cada vez más inadecuado.   \n",
       "1                                                                                                                                                                                   Para los niños más pequeños (bebés y niños pequeños), la capacitación especializada y práctica parece estar más fuertemente asociada con la calidad pedagógica y los resultados cognitivos y sociales. Los educadores de la primera infancia se encuentran con entornos sociales cada vez más complejos y se encuentran con una multiplicidad de antecedentes y experiencias familiares. Estos factores crean imperativos para adoptar nuevas pedagogías y prácticas organizacionales para acomodar este pluralismo (Elliott, 2006).   \n",
       "2                                    Además, la formación de especialistas en medicina general también incluye tareas que requieren un conocimiento más profundo de problemas comunes de salud pública, incluida la salud mental (Cuestionario de salud mental de la OCDE, 2013). Dado que no hay control en la atención primaria para limitar el acceso a los servicios de salud (mental) especializados, muchos pacientes que necesitan tratamiento (para trastornos mentales graves en particular) pueden buscar atención de nivel especializado directamente. Los servicios de especialistas en psiquiatría se brindan principalmente en las salas ambulatorias de psiquiatría ubicadas en los hospitales generales.   \n",
       "3  En los países de la OCDE se tiende a pasar de los cursos obligatorios a los optativos, abiertos a estudiantes de distintas facultades y escuelas. Este planteamiento facilita la formación de equipos de estudiantes con distintas formaciones e intereses. El trabajo en equipos interdisciplinares permite a los individuos concentrarse en lo que mejor saben y les gusta y, al mismo tiempo, familiarizarse con nuevos conocimientos que pueden asociarse a una nueva forma de resolver un problema o crear un nuevo producto o servicio. No está claro hasta qué punto estos cursos utilizan métodos pedagógicos creativos y se adaptan a las necesidades de los estudiantes de grado, postgrado y licenciatura.   \n",
       "4                                                                                       Este grupo se centró en las personas que padecen trastornos mentales con comorbilidad de abuso de sustancias (mientras que la demencia, la discapacidad intelectual y el abuso de sustancias por sà solos quedaron excluidos del ámbito de análisis). Con 90 millones de euros de financiación, la comisión dispuso de tres años para \"iniciar y apoyar el desarrollo de proyectos a todos los niveles (tratamiento médico, mejora de los servicios, proyectos de vivienda, mejoras legislativas y organizativas) y proponer las medidas necesarias para elevar de forma permanente el nivel de los servicios de salud mental\".    \n",
       "\n",
       "                                                                                                                                                                                                                                                                                                                                                                                                                                                                                                                                                                                               tokens  \n",
       "0                                                                                                                                                                                                                                                                                               [aprendizaje, educación, consideran, sinónimos, escolarización, formal, organizaciones, auxiliares, editoriales, educación, juntas, examinadoras, organizaciones, formación, docentes, consideran, extensiones, acuerdos, establecidos, gobiernos, marco, comprensión, vuelto, cada, vez, inadecuado]  \n",
       "1                                                                                                                                         [niños, pequeños, bebés, niños, pequeños, capacitación, especializada, práctica, parece, fuertemente, asociada, calidad, pedagógica, resultados, cognitivos, sociales, educadores, primera, infancia, encuentran, entornos, sociales, cada, vez, complejos, encuentran, multiplicidad, antecedentes, experiencias, familiares, factores, crean, imperativos, adoptar, nuevas, pedagogías, prácticas, organizacionales, acomodar, pluralismo, elliott, 2006]  \n",
       "2         [además, formación, especialistas, medicina, general, incluye, tareas, requieren, conocimiento, profundo, problemas, comunes, salud, pública, incluida, salud, mental, cuestionario, salud, mental, ocde, 2013, dado, control, atención, primaria, limitar, acceso, servicios, salud, mental, especializados, pacientes, necesitan, tratamiento, trastornos, mentales, graves, particular, pueden, buscar, atención, nivel, especializado, directamente, servicios, especialistas, psiquiatría, brindan, principalmente, salas, ambulatorias, psiquiatría, ubicadas, hospitales, generales]  \n",
       "3  [países, ocde, tiende, pasar, cursos, obligatorios, optativos, abiertos, estudiantes, distintas, facultades, escuelas, planteamiento, facilita, formación, equipos, estudiantes, distintas, formaciones, intereses, trabajo, equipos, interdisciplinares, permite, individuos, concentrarse, mejor, saben, gusta, mismo, tiempo, familiarizarse, nuevos, conocimientos, pueden, asociarse, nueva, forma, resolver, problema, crear, nuevo, producto, servicio, claro, punto, cursos, utilizan, métodos, pedagógicos, creativos, adaptan, necesidades, estudiantes, grado, postgrado, licenciatura]  \n",
       "4                                                                      [grupo, centró, personas, padecen, trastornos, mentales, comorbilidad, abuso, sustancias, mientras, demencia, discapacidad, intelectual, abuso, sustancias, sà, solos, quedaron, excluidos, ámbito, análisis, 90, millones, euros, financiación, comisión, dispuso, tres, años, iniciar, apoyar, desarrollo, proyectos, niveles, tratamiento, médico, mejora, servicios, proyectos, vivienda, mejoras, legislativas, organizativas, proponer, medidas, necesarias, elevar, forma, permanente, nivel, servicios, salud, mental]  "
      ]
     },
     "metadata": {},
     "output_type": "display_data"
    }
   ],
   "source": [
    "import nltk\n",
    "import string\n",
    "from nltk.corpus import stopwords\n",
    "\n",
    "# Descargar stopwords si no están ya descargadas\n",
    "nltk.download('stopwords')\n",
    "\n",
    "# Definir las stopwords en español (todos los textos estan en español)\n",
    "stop_words = set(stopwords.words('spanish'))\n",
    "\n",
    "# Función para limpiar y tokenizar texto\n",
    "def clean_tokenize(text):\n",
    "    if pd.isnull(text):\n",
    "        return []\n",
    "    text = text.lower()\n",
    "    text = text.translate(str.maketrans('', '', string.punctuation))\n",
    "    tokens = text.split()\n",
    "    tokens = [word for word in tokens if word not in stop_words]\n",
    "    return tokens\n",
    "\n",
    "# Aplicar la función a la columna Description\n",
    "df['tokens'] = df['textos'].apply(clean_tokenize)\n",
    "\n",
    "print(\"Ejemplos de tokens en los primeros textos:\")\n",
    "display(df[['textos', 'tokens']].head())"
   ]
  },
  {
   "cell_type": "markdown",
   "id": "d9d91e40-6fd0-48bd-b5ad-0da79747588a",
   "metadata": {},
   "source": [
    "### Análisis exploratorio de palabras más frecuentes y representativas\n",
    "\n",
    "En esta sección exploraremos las palabras extraídas en la tokenización y limpieza de la descripción. Nuestro objetivo es identificar las palabras que aparecen con mayor frecuencia y que mejor describen el conjunto de películas y series."
   ]
  },
  {
   "cell_type": "code",
   "execution_count": 78,
   "id": "11808bb5-0920-413f-913d-86bdf4930ab9",
   "metadata": {},
   "outputs": [
    {
     "name": "stdout",
     "output_type": "stream",
     "text": [
      "Las 20 palabras más frecuentes en las descripciones:\n"
     ]
    },
    {
     "data": {
      "text/html": [
       "<div>\n",
       "<style scoped>\n",
       "    .dataframe tbody tr th:only-of-type {\n",
       "        vertical-align: middle;\n",
       "    }\n",
       "\n",
       "    .dataframe tbody tr th {\n",
       "        vertical-align: top;\n",
       "    }\n",
       "\n",
       "    .dataframe thead th {\n",
       "        text-align: right;\n",
       "    }\n",
       "</style>\n",
       "<table border=\"1\" class=\"dataframe\">\n",
       "  <thead>\n",
       "    <tr style=\"text-align: right;\">\n",
       "      <th></th>\n",
       "      <th>Word</th>\n",
       "      <th>Frequency</th>\n",
       "    </tr>\n",
       "  </thead>\n",
       "  <tbody>\n",
       "    <tr>\n",
       "      <th>0</th>\n",
       "      <td>salud</td>\n",
       "      <td>1107</td>\n",
       "    </tr>\n",
       "    <tr>\n",
       "      <th>1</th>\n",
       "      <td>pobreza</td>\n",
       "      <td>1019</td>\n",
       "    </tr>\n",
       "    <tr>\n",
       "      <th>2</th>\n",
       "      <td>educación</td>\n",
       "      <td>992</td>\n",
       "    </tr>\n",
       "    <tr>\n",
       "      <th>3</th>\n",
       "      <td>países</td>\n",
       "      <td>962</td>\n",
       "    </tr>\n",
       "    <tr>\n",
       "      <th>4</th>\n",
       "      <td>atención</td>\n",
       "      <td>900</td>\n",
       "    </tr>\n",
       "    <tr>\n",
       "      <th>5</th>\n",
       "      <td>estudiantes</td>\n",
       "      <td>741</td>\n",
       "    </tr>\n",
       "    <tr>\n",
       "      <th>6</th>\n",
       "      <td>ocde</td>\n",
       "      <td>587</td>\n",
       "    </tr>\n",
       "    <tr>\n",
       "      <th>7</th>\n",
       "      <td>escuelas</td>\n",
       "      <td>586</td>\n",
       "    </tr>\n",
       "    <tr>\n",
       "      <th>8</th>\n",
       "      <td>años</td>\n",
       "      <td>559</td>\n",
       "    </tr>\n",
       "    <tr>\n",
       "      <th>9</th>\n",
       "      <td>servicios</td>\n",
       "      <td>548</td>\n",
       "    </tr>\n",
       "    <tr>\n",
       "      <th>10</th>\n",
       "      <td>nivel</td>\n",
       "      <td>521</td>\n",
       "    </tr>\n",
       "    <tr>\n",
       "      <th>11</th>\n",
       "      <td>sistema</td>\n",
       "      <td>508</td>\n",
       "    </tr>\n",
       "    <tr>\n",
       "      <th>12</th>\n",
       "      <td>niños</td>\n",
       "      <td>479</td>\n",
       "    </tr>\n",
       "    <tr>\n",
       "      <th>13</th>\n",
       "      <td>personas</td>\n",
       "      <td>457</td>\n",
       "    </tr>\n",
       "    <tr>\n",
       "      <th>14</th>\n",
       "      <td>pueden</td>\n",
       "      <td>453</td>\n",
       "    </tr>\n",
       "    <tr>\n",
       "      <th>15</th>\n",
       "      <td>calidad</td>\n",
       "      <td>447</td>\n",
       "    </tr>\n",
       "    <tr>\n",
       "      <th>16</th>\n",
       "      <td>desarrollo</td>\n",
       "      <td>431</td>\n",
       "    </tr>\n",
       "    <tr>\n",
       "      <th>17</th>\n",
       "      <td>resultados</td>\n",
       "      <td>416</td>\n",
       "    </tr>\n",
       "    <tr>\n",
       "      <th>18</th>\n",
       "      <td>ingresos</td>\n",
       "      <td>402</td>\n",
       "    </tr>\n",
       "    <tr>\n",
       "      <th>19</th>\n",
       "      <td>aprendizaje</td>\n",
       "      <td>398</td>\n",
       "    </tr>\n",
       "  </tbody>\n",
       "</table>\n",
       "</div>"
      ],
      "text/plain": [
       "           Word  Frequency\n",
       "0         salud       1107\n",
       "1       pobreza       1019\n",
       "2     educación        992\n",
       "3        países        962\n",
       "4      atención        900\n",
       "5   estudiantes        741\n",
       "6          ocde        587\n",
       "7      escuelas        586\n",
       "8          años        559\n",
       "9     servicios        548\n",
       "10        nivel        521\n",
       "11      sistema        508\n",
       "12        niños        479\n",
       "13     personas        457\n",
       "14       pueden        453\n",
       "15      calidad        447\n",
       "16   desarrollo        431\n",
       "17   resultados        416\n",
       "18     ingresos        402\n",
       "19  aprendizaje        398"
      ]
     },
     "metadata": {},
     "output_type": "display_data"
    },
    {
     "data": {
      "image/png": "[encoded data removed]",
      "text/plain": [
       "<Figure size 1200x600 with 1 Axes>"
      ]
     },
     "metadata": {},
     "output_type": "display_data"
    }
   ],
   "source": [
    "from collections import Counter\n",
    "import matplotlib.pyplot as plt\n",
    "\n",
    "# Aplanar la lista de tokens\n",
    "all_tokens = [token for tokens_list in df['tokens'] for token in tokens_list]\n",
    "\n",
    "# Contar frecuencia de palabras\n",
    "word_counts = Counter(all_tokens)\n",
    "\n",
    "# Obtener las 20 palabras más comunes\n",
    "most_common_words = word_counts.most_common(20)\n",
    "\n",
    "# Crear dataframe para visualización\n",
    "freq_df = pd.DataFrame(most_common_words, columns=['Word', 'Frequency'])\n",
    "\n",
    "print(\"Las 20 palabras más frecuentes en las descripciones:\")\n",
    "display(freq_df)\n",
    "\n",
    "# Graficar las palabras más frecuentes\n",
    "plt.figure(figsize=(12,6))\n",
    "plt.bar(freq_df['Word'], freq_df['Frequency'], color='skyblue')\n",
    "plt.xticks(rotation=45)\n",
    "plt.title('Las 20 palabras más frecuentes en las descripciones')\n",
    "plt.xlabel('Palabras')\n",
    "plt.ylabel('Frecuencia')\n",
    "plt.show()"
   ]
  },
  {
   "cell_type": "markdown",
   "id": "5dd58637-57e9-4f8d-9f1d-9ea918f72937",
   "metadata": {},
   "source": [
    "Los resultados muestran que las palabras más frecuentes correspoden a salud, pobreza y educación, lo cual hace sentido porque son consistentes con el contexto del proyecto. Esto se debe a que el ODS 1 corresponde a \"Fin de la pobreza\", el 3 a \"Salud y Bienestar\" y el 4 a \"Educación de calidad\". Adicionalmente, se puede decir que como \"salud\" es la más frecuente, es posible que sea un indicador de que las personas tienen mas opiciones acerca del bienestar o servicios médicos que sobre pobreza o educación, aunque las tres reflejan un balance. "
   ]
  },
  {
   "cell_type": "code",
   "execution_count": 79,
   "id": "fe44a2f9-2e97-46d4-a7ef-2dc3c0e05f91",
   "metadata": {},
   "outputs": [
    {
     "data": {
      "image/png": "[encoded data removed]",
      "text/plain": [
       "<Figure size 640x480 with 1 Axes>"
      ]
     },
     "metadata": {},
     "output_type": "display_data"
    }
   ],
   "source": [
    "#Graficar distribución. Tambien queremos ver que tantos registros hay por cada label (ODS)\n",
    "df['labels'].value_counts().plot(kind='bar', color=['orange', 'blue', 'red'])\n",
    "plt.title('Distribución de la variable categórica labels (que ODS es)')\n",
    "plt.xlabel('ODS')\n",
    "plt.ylabel('Cantidad')\n",
    "plt.xticks(rotation=0)\n",
    "plt.show()"
   ]
  },
  {
   "cell_type": "markdown",
   "id": "3c7fc80d-19ca-44ae-8ff2-c4388b18faac",
   "metadata": {},
   "source": [
    "### Creación de un DataFrame con TF-IDF de palabras representativas y variable objetivo"
   ]
  },
  {
   "cell_type": "code",
   "execution_count": 80,
   "id": "0d7d2d0a-2d7e-4a4a-869e-7af0f268667a",
   "metadata": {},
   "outputs": [
    {
     "name": "stdout",
     "output_type": "stream",
     "text": [
      "Primeras filas del DataFrame final con TF-IDF y variable objetivo:\n"
     ]
    },
    {
     "data": {
      "text/html": [
       "<div>\n",
       "<style scoped>\n",
       "    .dataframe tbody tr th:only-of-type {\n",
       "        vertical-align: middle;\n",
       "    }\n",
       "\n",
       "    .dataframe tbody tr th {\n",
       "        vertical-align: top;\n",
       "    }\n",
       "\n",
       "    .dataframe thead th {\n",
       "        text-align: right;\n",
       "    }\n",
       "</style>\n",
       "<table border=\"1\" class=\"dataframe\">\n",
       "  <thead>\n",
       "    <tr style=\"text-align: right;\">\n",
       "      <th></th>\n",
       "      <th>textos</th>\n",
       "      <th>labels</th>\n",
       "      <th>salud</th>\n",
       "      <th>pobreza</th>\n",
       "      <th>educación</th>\n",
       "      <th>países</th>\n",
       "      <th>atención</th>\n",
       "      <th>estudiantes</th>\n",
       "      <th>ocde</th>\n",
       "      <th>escuelas</th>\n",
       "      <th>...</th>\n",
       "      <th>nivel</th>\n",
       "      <th>sistema</th>\n",
       "      <th>niños</th>\n",
       "      <th>personas</th>\n",
       "      <th>pueden</th>\n",
       "      <th>calidad</th>\n",
       "      <th>desarrollo</th>\n",
       "      <th>resultados</th>\n",
       "      <th>ingresos</th>\n",
       "      <th>aprendizaje</th>\n",
       "    </tr>\n",
       "  </thead>\n",
       "  <tbody>\n",
       "    <tr>\n",
       "      <th>0</th>\n",
       "      <td>\"Aprendizaje\" y \"educación\" se consideran sinónimos de escolarización formal. Las organizaciones auxiliares, como las editoriales de educación, las juntas examinadoras y las organizaciones de formación de docentes, se consideran extensiones de los acuerdos establecidos por los gobiernos. Este marco de comprensión se ha vuelto cada vez más inadecuado.</td>\n",
       "      <td>4</td>\n",
       "      <td>0.000000</td>\n",
       "      <td>0.0</td>\n",
       "      <td>0.841575</td>\n",
       "      <td>0.000000</td>\n",
       "      <td>0.000000</td>\n",
       "      <td>0.000000</td>\n",
       "      <td>0.000000</td>\n",
       "      <td>0.000000</td>\n",
       "      <td>...</td>\n",
       "      <td>0.000000</td>\n",
       "      <td>0.0</td>\n",
       "      <td>0.000000</td>\n",
       "      <td>0.000000</td>\n",
       "      <td>0.000000</td>\n",
       "      <td>0.000000</td>\n",
       "      <td>0.000000</td>\n",
       "      <td>0.000000</td>\n",
       "      <td>0.0</td>\n",
       "      <td>0.540141</td>\n",
       "    </tr>\n",
       "    <tr>\n",
       "      <th>1</th>\n",
       "      <td>Para los niños más pequeños (bebés y niños pequeños), la capacitación especializada y práctica parece estar más fuertemente asociada con la calidad pedagógica y los resultados cognitivos y sociales. Los educadores de la primera infancia se encuentran con entornos sociales cada vez más complejos y se encuentran con una multiplicidad de antecedentes y experiencias familiares. Estos factores crean imperativos para adoptar nuevas pedagogías y prácticas organizacionales para acomodar este pluralismo (Elliott, 2006).</td>\n",
       "      <td>4</td>\n",
       "      <td>0.000000</td>\n",
       "      <td>0.0</td>\n",
       "      <td>0.000000</td>\n",
       "      <td>0.000000</td>\n",
       "      <td>0.000000</td>\n",
       "      <td>0.000000</td>\n",
       "      <td>0.000000</td>\n",
       "      <td>0.000000</td>\n",
       "      <td>...</td>\n",
       "      <td>0.000000</td>\n",
       "      <td>0.0</td>\n",
       "      <td>0.824416</td>\n",
       "      <td>0.000000</td>\n",
       "      <td>0.000000</td>\n",
       "      <td>0.401669</td>\n",
       "      <td>0.000000</td>\n",
       "      <td>0.398748</td>\n",
       "      <td>0.0</td>\n",
       "      <td>0.000000</td>\n",
       "    </tr>\n",
       "    <tr>\n",
       "      <th>2</th>\n",
       "      <td>Además, la formación de especialistas en medicina general también incluye tareas que requieren un conocimiento más profundo de problemas comunes de salud pública, incluida la salud mental (Cuestionario de salud mental de la OCDE, 2013). Dado que no hay control en la atención primaria para limitar el acceso a los servicios de salud (mental) especializados, muchos pacientes que necesitan tratamiento (para trastornos mentales graves en particular) pueden buscar atención de nivel especializado directamente. Los servicios de especialistas en psiquiatría se brindan principalmente en las salas ambulatorias de psiquiatría ubicadas en los hospitales generales.</td>\n",
       "      <td>3</td>\n",
       "      <td>0.735042</td>\n",
       "      <td>0.0</td>\n",
       "      <td>0.000000</td>\n",
       "      <td>0.000000</td>\n",
       "      <td>0.389156</td>\n",
       "      <td>0.000000</td>\n",
       "      <td>0.206718</td>\n",
       "      <td>0.000000</td>\n",
       "      <td>...</td>\n",
       "      <td>0.203759</td>\n",
       "      <td>0.0</td>\n",
       "      <td>0.000000</td>\n",
       "      <td>0.000000</td>\n",
       "      <td>0.207859</td>\n",
       "      <td>0.000000</td>\n",
       "      <td>0.000000</td>\n",
       "      <td>0.000000</td>\n",
       "      <td>0.0</td>\n",
       "      <td>0.000000</td>\n",
       "    </tr>\n",
       "    <tr>\n",
       "      <th>3</th>\n",
       "      <td>En los países de la OCDE se tiende a pasar de los cursos obligatorios a los optativos, abiertos a estudiantes de distintas facultades y escuelas. Este planteamiento facilita la formación de equipos de estudiantes con distintas formaciones e intereses. El trabajo en equipos interdisciplinares permite a los individuos concentrarse en lo que mejor saben y les gusta y, al mismo tiempo, familiarizarse con nuevos conocimientos que pueden asociarse a una nueva forma de resolver un problema o crear un nuevo producto o servicio. No está claro hasta qué punto estos cursos utilizan métodos pedagógicos creativos y se adaptan a las necesidades de los estudiantes de grado, postgrado y licenciatura.</td>\n",
       "      <td>4</td>\n",
       "      <td>0.000000</td>\n",
       "      <td>0.0</td>\n",
       "      <td>0.000000</td>\n",
       "      <td>0.234758</td>\n",
       "      <td>0.000000</td>\n",
       "      <td>0.832674</td>\n",
       "      <td>0.282588</td>\n",
       "      <td>0.301573</td>\n",
       "      <td>...</td>\n",
       "      <td>0.000000</td>\n",
       "      <td>0.0</td>\n",
       "      <td>0.000000</td>\n",
       "      <td>0.000000</td>\n",
       "      <td>0.284148</td>\n",
       "      <td>0.000000</td>\n",
       "      <td>0.000000</td>\n",
       "      <td>0.000000</td>\n",
       "      <td>0.0</td>\n",
       "      <td>0.000000</td>\n",
       "    </tr>\n",
       "    <tr>\n",
       "      <th>4</th>\n",
       "      <td>Este grupo se centró en las personas que padecen trastornos mentales con comorbilidad de abuso de sustancias (mientras que la demencia, la discapacidad intelectual y el abuso de sustancias por sà solos quedaron excluidos del ámbito de análisis). Con 90 millones de euros de financiación, la comisión dispuso de tres años para \"iniciar y apoyar el desarrollo de proyectos a todos los niveles (tratamiento médico, mejora de los servicios, proyectos de vivienda, mejoras legislativas y organizativas) y proponer las medidas necesarias para elevar de forma permanente el nivel de los servicios de salud mental\".</td>\n",
       "      <td>3</td>\n",
       "      <td>0.292323</td>\n",
       "      <td>0.0</td>\n",
       "      <td>0.000000</td>\n",
       "      <td>0.000000</td>\n",
       "      <td>0.000000</td>\n",
       "      <td>0.000000</td>\n",
       "      <td>0.000000</td>\n",
       "      <td>0.000000</td>\n",
       "      <td>...</td>\n",
       "      <td>0.324136</td>\n",
       "      <td>0.0</td>\n",
       "      <td>0.000000</td>\n",
       "      <td>0.349133</td>\n",
       "      <td>0.000000</td>\n",
       "      <td>0.000000</td>\n",
       "      <td>0.343207</td>\n",
       "      <td>0.000000</td>\n",
       "      <td>0.0</td>\n",
       "      <td>0.000000</td>\n",
       "    </tr>\n",
       "  </tbody>\n",
       "</table>\n",
       "<p>5 rows × 22 columns</p>\n",
       "</div>"
      ],
      "text/plain": [
       "                                                                                                                                                                                                                                                                                                                                                                                                                                                                                                                                                                                                                                                                                                                  textos  \\\n",
       "0                                                                                                                                                                                                                                                                                                                                                       \"Aprendizaje\" y \"educación\" se consideran sinónimos de escolarización formal. Las organizaciones auxiliares, como las editoriales de educación, las juntas examinadoras y las organizaciones de formación de docentes, se consideran extensiones de los acuerdos establecidos por los gobiernos. Este marco de comprensión se ha vuelto cada vez más inadecuado.   \n",
       "1                                                                                                                                                                                   Para los niños más pequeños (bebés y niños pequeños), la capacitación especializada y práctica parece estar más fuertemente asociada con la calidad pedagógica y los resultados cognitivos y sociales. Los educadores de la primera infancia se encuentran con entornos sociales cada vez más complejos y se encuentran con una multiplicidad de antecedentes y experiencias familiares. Estos factores crean imperativos para adoptar nuevas pedagogías y prácticas organizacionales para acomodar este pluralismo (Elliott, 2006).   \n",
       "2                                    Además, la formación de especialistas en medicina general también incluye tareas que requieren un conocimiento más profundo de problemas comunes de salud pública, incluida la salud mental (Cuestionario de salud mental de la OCDE, 2013). Dado que no hay control en la atención primaria para limitar el acceso a los servicios de salud (mental) especializados, muchos pacientes que necesitan tratamiento (para trastornos mentales graves en particular) pueden buscar atención de nivel especializado directamente. Los servicios de especialistas en psiquiatría se brindan principalmente en las salas ambulatorias de psiquiatría ubicadas en los hospitales generales.   \n",
       "3  En los países de la OCDE se tiende a pasar de los cursos obligatorios a los optativos, abiertos a estudiantes de distintas facultades y escuelas. Este planteamiento facilita la formación de equipos de estudiantes con distintas formaciones e intereses. El trabajo en equipos interdisciplinares permite a los individuos concentrarse en lo que mejor saben y les gusta y, al mismo tiempo, familiarizarse con nuevos conocimientos que pueden asociarse a una nueva forma de resolver un problema o crear un nuevo producto o servicio. No está claro hasta qué punto estos cursos utilizan métodos pedagógicos creativos y se adaptan a las necesidades de los estudiantes de grado, postgrado y licenciatura.   \n",
       "4                                                                                       Este grupo se centró en las personas que padecen trastornos mentales con comorbilidad de abuso de sustancias (mientras que la demencia, la discapacidad intelectual y el abuso de sustancias por sà solos quedaron excluidos del ámbito de análisis). Con 90 millones de euros de financiación, la comisión dispuso de tres años para \"iniciar y apoyar el desarrollo de proyectos a todos los niveles (tratamiento médico, mejora de los servicios, proyectos de vivienda, mejoras legislativas y organizativas) y proponer las medidas necesarias para elevar de forma permanente el nivel de los servicios de salud mental\".    \n",
       "\n",
       "   labels     salud  pobreza  educación    países  atención  estudiantes  \\\n",
       "0       4  0.000000      0.0   0.841575  0.000000  0.000000     0.000000   \n",
       "1       4  0.000000      0.0   0.000000  0.000000  0.000000     0.000000   \n",
       "2       3  0.735042      0.0   0.000000  0.000000  0.389156     0.000000   \n",
       "3       4  0.000000      0.0   0.000000  0.234758  0.000000     0.832674   \n",
       "4       3  0.292323      0.0   0.000000  0.000000  0.000000     0.000000   \n",
       "\n",
       "       ocde  escuelas  ...     nivel  sistema     niños  personas    pueden  \\\n",
       "0  0.000000  0.000000  ...  0.000000      0.0  0.000000  0.000000  0.000000   \n",
       "1  0.000000  0.000000  ...  0.000000      0.0  0.824416  0.000000  0.000000   \n",
       "2  0.206718  0.000000  ...  0.203759      0.0  0.000000  0.000000  0.207859   \n",
       "3  0.282588  0.301573  ...  0.000000      0.0  0.000000  0.000000  0.284148   \n",
       "4  0.000000  0.000000  ...  0.324136      0.0  0.000000  0.349133  0.000000   \n",
       "\n",
       "    calidad  desarrollo  resultados  ingresos  aprendizaje  \n",
       "0  0.000000    0.000000    0.000000       0.0     0.540141  \n",
       "1  0.401669    0.000000    0.398748       0.0     0.000000  \n",
       "2  0.000000    0.000000    0.000000       0.0     0.000000  \n",
       "3  0.000000    0.000000    0.000000       0.0     0.000000  \n",
       "4  0.000000    0.343207    0.000000       0.0     0.000000  \n",
       "\n",
       "[5 rows x 22 columns]"
      ]
     },
     "metadata": {},
     "output_type": "display_data"
    }
   ],
   "source": [
    "from sklearn.feature_extraction.text import TfidfVectorizer\n",
    "\n",
    "# Las 20 palabras más frecuentes ya están en 'most_common_words'\n",
    "top_20_words = [word for word, _ in most_common_words]\n",
    "\n",
    "# Definir vectorizador TF-IDF con vocabulario limitado\n",
    "vectorizer = TfidfVectorizer(vocabulary=top_20_words)\n",
    "\n",
    "# Aplicar tf-idf sobre la columna original Description\n",
    "tfidf_matrix = vectorizer.fit_transform(df['textos'].fillna(''))\n",
    "\n",
    "# Convertir matriz tf-idf en DataFrame\n",
    "tfidf_df = pd.DataFrame(tfidf_matrix.toarray(), columns=top_20_words)\n",
    "\n",
    "# Construir DataFrame final con columnas indicadas\n",
    "final_df = pd.concat([df[['textos', 'labels']], tfidf_df], axis=1)\n",
    "\n",
    "print(\"Primeras filas del DataFrame final con TF-IDF y variable objetivo:\")\n",
    "display(final_df.head())"
   ]
  },
  {
   "cell_type": "code",
   "execution_count": 82,
   "id": "de0d84a9-1d36-4428-81cd-c958cece80d6",
   "metadata": {},
   "outputs": [],
   "source": [
    "final_df.to_csv('procesamientoTextosODS.csv', index=False, sep=';')"
   ]
  },
  {
   "cell_type": "markdown",
   "id": "176cb1b2-a154-47ce-a128-b4ae79777e0a",
   "metadata": {},
   "source": [
    "## Parte 3: Modelado y Evaluacion"
   ]
  },
  {
   "cell_type": "code",
   "execution_count": 83,
   "id": "f517f41c-dc72-471f-acc8-f6e072768b4b",
   "metadata": {},
   "outputs": [],
   "source": [
    "import pandas as pd\n",
    "# Para preparar los datos\n",
    "from sklearn.preprocessing import LabelEncoder\n",
    "# Para crear el arbol de decisión \n",
    "from sklearn.tree import DecisionTreeClassifier \n",
    "# Para usar KNN como clasificador\n",
    "from sklearn.neighbors import KNeighborsClassifier\n",
    "# Para realizar la separación del conjunto de aprendizaje en entrenamiento y test.\n",
    "from sklearn.model_selection import train_test_split\n",
    "# Para evaluar el modelo\n",
    "from sklearn.metrics import confusion_matrix, classification_report, precision_score, recall_score, f1_score, accuracy_score\n",
    "\n",
    "# Versiones anteriores a 1.2 de sklearn: from sklearn.metrics import plot_confusion_matrix\n",
    "from sklearn.metrics import ConfusionMatrixDisplay\n",
    "\n",
    "# Para búsqueda de hiperparámetros\n",
    "from sklearn.model_selection import GridSearchCV\n",
    "# Para la validación cruzada\n",
    "from sklearn.model_selection import KFold \n",
    "#Librerías para la visualización\n",
    "import matplotlib.pyplot as plt\n",
    "# Seaborn\n",
    "import seaborn as sns \n",
    "from sklearn import tree\n",
    "import sklearn as sklearn"
   ]
  },
  {
   "cell_type": "code",
   "execution_count": 84,
   "id": "03ebb135-19f7-461f-bbdc-5be506a9622c",
   "metadata": {},
   "outputs": [
    {
     "name": "stdout",
     "output_type": "stream",
     "text": [
      "The scikit-learn version is 1.3.0.\n"
     ]
    }
   ],
   "source": [
    "print('The scikit-learn version is {}.'.format(sklearn.__version__)) "
   ]
  },
  {
   "cell_type": "code",
   "execution_count": 90,
   "id": "a0aded0f-9222-46c8-a70f-d73d39db3759",
   "metadata": {},
   "outputs": [
    {
     "name": "stdout",
     "output_type": "stream",
     "text": [
      "Primera filas del dataset:\n"
     ]
    },
    {
     "data": {
      "text/html": [
       "<div>\n",
       "<style scoped>\n",
       "    .dataframe tbody tr th:only-of-type {\n",
       "        vertical-align: middle;\n",
       "    }\n",
       "\n",
       "    .dataframe tbody tr th {\n",
       "        vertical-align: top;\n",
       "    }\n",
       "\n",
       "    .dataframe thead th {\n",
       "        text-align: right;\n",
       "    }\n",
       "</style>\n",
       "<table border=\"1\" class=\"dataframe\">\n",
       "  <thead>\n",
       "    <tr style=\"text-align: right;\">\n",
       "      <th></th>\n",
       "      <th>textos</th>\n",
       "      <th>labels</th>\n",
       "      <th>salud</th>\n",
       "      <th>pobreza</th>\n",
       "      <th>educación</th>\n",
       "      <th>países</th>\n",
       "      <th>atención</th>\n",
       "      <th>estudiantes</th>\n",
       "      <th>ocde</th>\n",
       "      <th>escuelas</th>\n",
       "      <th>...</th>\n",
       "      <th>nivel</th>\n",
       "      <th>sistema</th>\n",
       "      <th>niños</th>\n",
       "      <th>personas</th>\n",
       "      <th>pueden</th>\n",
       "      <th>calidad</th>\n",
       "      <th>desarrollo</th>\n",
       "      <th>resultados</th>\n",
       "      <th>ingresos</th>\n",
       "      <th>aprendizaje</th>\n",
       "    </tr>\n",
       "  </thead>\n",
       "  <tbody>\n",
       "    <tr>\n",
       "      <th>0</th>\n",
       "      <td>\"Aprendizaje\" y \"educación\" se consideran sinónimos de escolarización formal. Las organizaciones auxiliares, como las editoriales de educación, las juntas examinadoras y las organizaciones de formación de docentes, se consideran extensiones de los acuerdos establecidos por los gobiernos. Este marco de comprensión se ha vuelto cada vez más inadecuado.</td>\n",
       "      <td>4</td>\n",
       "      <td>0.000000</td>\n",
       "      <td>0.0</td>\n",
       "      <td>0.841575</td>\n",
       "      <td>0.000000</td>\n",
       "      <td>0.000000</td>\n",
       "      <td>0.000000</td>\n",
       "      <td>0.000000</td>\n",
       "      <td>0.000000</td>\n",
       "      <td>...</td>\n",
       "      <td>0.000000</td>\n",
       "      <td>0.0</td>\n",
       "      <td>0.000000</td>\n",
       "      <td>0.000000</td>\n",
       "      <td>0.000000</td>\n",
       "      <td>0.000000</td>\n",
       "      <td>0.000000</td>\n",
       "      <td>0.000000</td>\n",
       "      <td>0.0</td>\n",
       "      <td>0.540141</td>\n",
       "    </tr>\n",
       "    <tr>\n",
       "      <th>1</th>\n",
       "      <td>Para los niños más pequeños (bebés y niños pequeños), la capacitación especializada y práctica parece estar más fuertemente asociada con la calidad pedagógica y los resultados cognitivos y sociales. Los educadores de la primera infancia se encuentran con entornos sociales cada vez más complejos y se encuentran con una multiplicidad de antecedentes y experiencias familiares. Estos factores crean imperativos para adoptar nuevas pedagogías y prácticas organizacionales para acomodar este pluralismo (Elliott, 2006).</td>\n",
       "      <td>4</td>\n",
       "      <td>0.000000</td>\n",
       "      <td>0.0</td>\n",
       "      <td>0.000000</td>\n",
       "      <td>0.000000</td>\n",
       "      <td>0.000000</td>\n",
       "      <td>0.000000</td>\n",
       "      <td>0.000000</td>\n",
       "      <td>0.000000</td>\n",
       "      <td>...</td>\n",
       "      <td>0.000000</td>\n",
       "      <td>0.0</td>\n",
       "      <td>0.824416</td>\n",
       "      <td>0.000000</td>\n",
       "      <td>0.000000</td>\n",
       "      <td>0.401669</td>\n",
       "      <td>0.000000</td>\n",
       "      <td>0.398748</td>\n",
       "      <td>0.0</td>\n",
       "      <td>0.000000</td>\n",
       "    </tr>\n",
       "    <tr>\n",
       "      <th>2</th>\n",
       "      <td>Además, la formación de especialistas en medicina general también incluye tareas que requieren un conocimiento más profundo de problemas comunes de salud pública, incluida la salud mental (Cuestionario de salud mental de la OCDE, 2013). Dado que no hay control en la atención primaria para limitar el acceso a los servicios de salud (mental) especializados, muchos pacientes que necesitan tratamiento (para trastornos mentales graves en particular) pueden buscar atención de nivel especializado directamente. Los servicios de especialistas en psiquiatría se brindan principalmente en las salas ambulatorias de psiquiatría ubicadas en los hospitales generales.</td>\n",
       "      <td>3</td>\n",
       "      <td>0.735042</td>\n",
       "      <td>0.0</td>\n",
       "      <td>0.000000</td>\n",
       "      <td>0.000000</td>\n",
       "      <td>0.389156</td>\n",
       "      <td>0.000000</td>\n",
       "      <td>0.206718</td>\n",
       "      <td>0.000000</td>\n",
       "      <td>...</td>\n",
       "      <td>0.203759</td>\n",
       "      <td>0.0</td>\n",
       "      <td>0.000000</td>\n",
       "      <td>0.000000</td>\n",
       "      <td>0.207859</td>\n",
       "      <td>0.000000</td>\n",
       "      <td>0.000000</td>\n",
       "      <td>0.000000</td>\n",
       "      <td>0.0</td>\n",
       "      <td>0.000000</td>\n",
       "    </tr>\n",
       "    <tr>\n",
       "      <th>3</th>\n",
       "      <td>En los países de la OCDE se tiende a pasar de los cursos obligatorios a los optativos, abiertos a estudiantes de distintas facultades y escuelas. Este planteamiento facilita la formación de equipos de estudiantes con distintas formaciones e intereses. El trabajo en equipos interdisciplinares permite a los individuos concentrarse en lo que mejor saben y les gusta y, al mismo tiempo, familiarizarse con nuevos conocimientos que pueden asociarse a una nueva forma de resolver un problema o crear un nuevo producto o servicio. No está claro hasta qué punto estos cursos utilizan métodos pedagógicos creativos y se adaptan a las necesidades de los estudiantes de grado, postgrado y licenciatura.</td>\n",
       "      <td>4</td>\n",
       "      <td>0.000000</td>\n",
       "      <td>0.0</td>\n",
       "      <td>0.000000</td>\n",
       "      <td>0.234758</td>\n",
       "      <td>0.000000</td>\n",
       "      <td>0.832674</td>\n",
       "      <td>0.282588</td>\n",
       "      <td>0.301573</td>\n",
       "      <td>...</td>\n",
       "      <td>0.000000</td>\n",
       "      <td>0.0</td>\n",
       "      <td>0.000000</td>\n",
       "      <td>0.000000</td>\n",
       "      <td>0.284148</td>\n",
       "      <td>0.000000</td>\n",
       "      <td>0.000000</td>\n",
       "      <td>0.000000</td>\n",
       "      <td>0.0</td>\n",
       "      <td>0.000000</td>\n",
       "    </tr>\n",
       "    <tr>\n",
       "      <th>4</th>\n",
       "      <td>Este grupo se centró en las personas que padecen trastornos mentales con comorbilidad de abuso de sustancias (mientras que la demencia, la discapacidad intelectual y el abuso de sustancias por sà solos quedaron excluidos del ámbito de análisis). Con 90 millones de euros de financiación, la comisión dispuso de tres años para \"iniciar y apoyar el desarrollo de proyectos a todos los niveles (tratamiento médico, mejora de los servicios, proyectos de vivienda, mejoras legislativas y organizativas) y proponer las medidas necesarias para elevar de forma permanente el nivel de los servicios de salud mental\".</td>\n",
       "      <td>3</td>\n",
       "      <td>0.292323</td>\n",
       "      <td>0.0</td>\n",
       "      <td>0.000000</td>\n",
       "      <td>0.000000</td>\n",
       "      <td>0.000000</td>\n",
       "      <td>0.000000</td>\n",
       "      <td>0.000000</td>\n",
       "      <td>0.000000</td>\n",
       "      <td>...</td>\n",
       "      <td>0.324136</td>\n",
       "      <td>0.0</td>\n",
       "      <td>0.000000</td>\n",
       "      <td>0.349133</td>\n",
       "      <td>0.000000</td>\n",
       "      <td>0.000000</td>\n",
       "      <td>0.343207</td>\n",
       "      <td>0.000000</td>\n",
       "      <td>0.0</td>\n",
       "      <td>0.000000</td>\n",
       "    </tr>\n",
       "  </tbody>\n",
       "</table>\n",
       "<p>5 rows × 22 columns</p>\n",
       "</div>"
      ],
      "text/plain": [
       "                                                                                                                                                                                                                                                                                                                                                                                                                                                                                                                                                                                                                                                                                                                  textos  \\\n",
       "0                                                                                                                                                                                                                                                                                                                                                       \"Aprendizaje\" y \"educación\" se consideran sinónimos de escolarización formal. Las organizaciones auxiliares, como las editoriales de educación, las juntas examinadoras y las organizaciones de formación de docentes, se consideran extensiones de los acuerdos establecidos por los gobiernos. Este marco de comprensión se ha vuelto cada vez más inadecuado.   \n",
       "1                                                                                                                                                                                   Para los niños más pequeños (bebés y niños pequeños), la capacitación especializada y práctica parece estar más fuertemente asociada con la calidad pedagógica y los resultados cognitivos y sociales. Los educadores de la primera infancia se encuentran con entornos sociales cada vez más complejos y se encuentran con una multiplicidad de antecedentes y experiencias familiares. Estos factores crean imperativos para adoptar nuevas pedagogías y prácticas organizacionales para acomodar este pluralismo (Elliott, 2006).   \n",
       "2                                    Además, la formación de especialistas en medicina general también incluye tareas que requieren un conocimiento más profundo de problemas comunes de salud pública, incluida la salud mental (Cuestionario de salud mental de la OCDE, 2013). Dado que no hay control en la atención primaria para limitar el acceso a los servicios de salud (mental) especializados, muchos pacientes que necesitan tratamiento (para trastornos mentales graves en particular) pueden buscar atención de nivel especializado directamente. Los servicios de especialistas en psiquiatría se brindan principalmente en las salas ambulatorias de psiquiatría ubicadas en los hospitales generales.   \n",
       "3  En los países de la OCDE se tiende a pasar de los cursos obligatorios a los optativos, abiertos a estudiantes de distintas facultades y escuelas. Este planteamiento facilita la formación de equipos de estudiantes con distintas formaciones e intereses. El trabajo en equipos interdisciplinares permite a los individuos concentrarse en lo que mejor saben y les gusta y, al mismo tiempo, familiarizarse con nuevos conocimientos que pueden asociarse a una nueva forma de resolver un problema o crear un nuevo producto o servicio. No está claro hasta qué punto estos cursos utilizan métodos pedagógicos creativos y se adaptan a las necesidades de los estudiantes de grado, postgrado y licenciatura.   \n",
       "4                                                                                       Este grupo se centró en las personas que padecen trastornos mentales con comorbilidad de abuso de sustancias (mientras que la demencia, la discapacidad intelectual y el abuso de sustancias por sà solos quedaron excluidos del ámbito de análisis). Con 90 millones de euros de financiación, la comisión dispuso de tres años para \"iniciar y apoyar el desarrollo de proyectos a todos los niveles (tratamiento médico, mejora de los servicios, proyectos de vivienda, mejoras legislativas y organizativas) y proponer las medidas necesarias para elevar de forma permanente el nivel de los servicios de salud mental\".    \n",
       "\n",
       "   labels     salud  pobreza  educación    países  atención  estudiantes  \\\n",
       "0       4  0.000000      0.0   0.841575  0.000000  0.000000     0.000000   \n",
       "1       4  0.000000      0.0   0.000000  0.000000  0.000000     0.000000   \n",
       "2       3  0.735042      0.0   0.000000  0.000000  0.389156     0.000000   \n",
       "3       4  0.000000      0.0   0.000000  0.234758  0.000000     0.832674   \n",
       "4       3  0.292323      0.0   0.000000  0.000000  0.000000     0.000000   \n",
       "\n",
       "       ocde  escuelas  ...     nivel  sistema     niños  personas    pueden  \\\n",
       "0  0.000000  0.000000  ...  0.000000      0.0  0.000000  0.000000  0.000000   \n",
       "1  0.000000  0.000000  ...  0.000000      0.0  0.824416  0.000000  0.000000   \n",
       "2  0.206718  0.000000  ...  0.203759      0.0  0.000000  0.000000  0.207859   \n",
       "3  0.282588  0.301573  ...  0.000000      0.0  0.000000  0.000000  0.284148   \n",
       "4  0.000000  0.000000  ...  0.324136      0.0  0.000000  0.349133  0.000000   \n",
       "\n",
       "    calidad  desarrollo  resultados  ingresos  aprendizaje  \n",
       "0  0.000000    0.000000    0.000000       0.0     0.540141  \n",
       "1  0.401669    0.000000    0.398748       0.0     0.000000  \n",
       "2  0.000000    0.000000    0.000000       0.0     0.000000  \n",
       "3  0.000000    0.000000    0.000000       0.0     0.000000  \n",
       "4  0.000000    0.343207    0.000000       0.0     0.000000  \n",
       "\n",
       "[5 rows x 22 columns]"
      ]
     },
     "metadata": {},
     "output_type": "display_data"
    }
   ],
   "source": [
    "\n",
    "df_procesado = pd.read_csv(\n",
    "    \"procesamientoTextosODS.csv\",\n",
    "    sep=\";\",              # separador correcto\n",
    "    quotechar='\"',        # reconoce comillas en los textos\n",
    "    encoding=\"utf-8-sig\"  # evita problemas de caracteres especiales\n",
    ")\n",
    "\n",
    "# Mostramos las primeras filas para conocer la estructura de los datos\n",
    "print(\"Primera filas del dataset:\")\n",
    "display(df_procesado.head())"
   ]
  },
  {
   "cell_type": "markdown",
   "id": "74f7567f-9b70-4eef-a62a-de28bba2eb82",
   "metadata": {},
   "source": [
    "### Construccion del modelo "
   ]
  },
  {
   "cell_type": "code",
   "execution_count": 96,
   "id": "c51aeb39-caa8-4ad2-acde-127fa80117bc",
   "metadata": {},
   "outputs": [],
   "source": [
    "#Separar la variable de entrada a la variable objetivo\n",
    "Y=df_procesado[\"labels\"]\n",
    "#Del conjunto de datos se elimina la variable labels\n",
    "X=df_procesado.drop([\"labels\"],axis=1)\n",
    "X=df_procesado.drop([\"textos\"],axis=1)"
   ]
  },
  {
   "cell_type": "markdown",
   "id": "f54ca709-eabb-4ea9-8bd7-f6bbc7ef4399",
   "metadata": {},
   "source": [
    "Dividr en train y en test"
   ]
  },
  {
   "cell_type": "code",
   "execution_count": 97,
   "id": "dafb5e2e-d884-45cd-83c5-ee732a053ab4",
   "metadata": {},
   "outputs": [],
   "source": [
    "# Dividimos los datos en entrenamiento y test\n",
    "X_train, X_test, Y_train, Y_test = train_test_split(X, Y, test_size=0.2, random_state=0)"
   ]
  },
  {
   "cell_type": "code",
   "execution_count": 98,
   "id": "2ab67b5a-19f1-4331-b539-29e1beab5362",
   "metadata": {},
   "outputs": [
    {
     "data": {
      "text/html": [
       "<style>#sk-container-id-2 {color: black;}#sk-container-id-2 pre{padding: 0;}#sk-container-id-2 div.sk-toggleable {background-color: white;}#sk-container-id-2 label.sk-toggleable__label {cursor: pointer;display: block;width: 100%;margin-bottom: 0;padding: 0.3em;box-sizing: border-box;text-align: center;}#sk-container-id-2 label.sk-toggleable__label-arrow:before {content: \"▸\";float: left;margin-right: 0.25em;color: #696969;}#sk-container-id-2 label.sk-toggleable__label-arrow:hover:before {color: black;}#sk-container-id-2 div.sk-estimator:hover label.sk-toggleable__label-arrow:before {color: black;}#sk-container-id-2 div.sk-toggleable__content {max-height: 0;max-width: 0;overflow: hidden;text-align: left;background-color: #f0f8ff;}#sk-container-id-2 div.sk-toggleable__content pre {margin: 0.2em;color: black;border-radius: 0.25em;background-color: #f0f8ff;}#sk-container-id-2 input.sk-toggleable__control:checked~div.sk-toggleable__content {max-height: 200px;max-width: 100%;overflow: auto;}#sk-container-id-2 input.sk-toggleable__control:checked~label.sk-toggleable__label-arrow:before {content: \"▾\";}#sk-container-id-2 div.sk-estimator input.sk-toggleable__control:checked~label.sk-toggleable__label {background-color: #d4ebff;}#sk-container-id-2 div.sk-label input.sk-toggleable__control:checked~label.sk-toggleable__label {background-color: #d4ebff;}#sk-container-id-2 input.sk-hidden--visually {border: 0;clip: rect(1px 1px 1px 1px);clip: rect(1px, 1px, 1px, 1px);height: 1px;margin: -1px;overflow: hidden;padding: 0;position: absolute;width: 1px;}#sk-container-id-2 div.sk-estimator {font-family: monospace;background-color: #f0f8ff;border: 1px dotted black;border-radius: 0.25em;box-sizing: border-box;margin-bottom: 0.5em;}#sk-container-id-2 div.sk-estimator:hover {background-color: #d4ebff;}#sk-container-id-2 div.sk-parallel-item::after {content: \"\";width: 100%;border-bottom: 1px solid gray;flex-grow: 1;}#sk-container-id-2 div.sk-label:hover label.sk-toggleable__label {background-color: #d4ebff;}#sk-container-id-2 div.sk-serial::before {content: \"\";position: absolute;border-left: 1px solid gray;box-sizing: border-box;top: 0;bottom: 0;left: 50%;z-index: 0;}#sk-container-id-2 div.sk-serial {display: flex;flex-direction: column;align-items: center;background-color: white;padding-right: 0.2em;padding-left: 0.2em;position: relative;}#sk-container-id-2 div.sk-item {position: relative;z-index: 1;}#sk-container-id-2 div.sk-parallel {display: flex;align-items: stretch;justify-content: center;background-color: white;position: relative;}#sk-container-id-2 div.sk-item::before, #sk-container-id-2 div.sk-parallel-item::before {content: \"\";position: absolute;border-left: 1px solid gray;box-sizing: border-box;top: 0;bottom: 0;left: 50%;z-index: -1;}#sk-container-id-2 div.sk-parallel-item {display: flex;flex-direction: column;z-index: 1;position: relative;background-color: white;}#sk-container-id-2 div.sk-parallel-item:first-child::after {align-self: flex-end;width: 50%;}#sk-container-id-2 div.sk-parallel-item:last-child::after {align-self: flex-start;width: 50%;}#sk-container-id-2 div.sk-parallel-item:only-child::after {width: 0;}#sk-container-id-2 div.sk-dashed-wrapped {border: 1px dashed gray;margin: 0 0.4em 0.5em 0.4em;box-sizing: border-box;padding-bottom: 0.4em;background-color: white;}#sk-container-id-2 div.sk-label label {font-family: monospace;font-weight: bold;display: inline-block;line-height: 1.2em;}#sk-container-id-2 div.sk-label-container {text-align: center;}#sk-container-id-2 div.sk-container {/* jupyter's `normalize.less` sets `[hidden] { display: none; }` but bootstrap.min.css set `[hidden] { display: none !important; }` so we also need the `!important` here to be able to override the default hidden behavior on the sphinx rendered scikit-learn.org. See: https://github.com/scikit-learn/scikit-learn/issues/21755 */display: inline-block !important;position: relative;}#sk-container-id-2 div.sk-text-repr-fallback {display: none;}</style><div id=\"sk-container-id-2\" class=\"sk-top-container\"><div class=\"sk-text-repr-fallback\"><pre>DecisionTreeClassifier(criterion=&#x27;entropy&#x27;, max_depth=4, random_state=0)</pre><b>In a Jupyter environment, please rerun this cell to show the HTML representation or trust the notebook. <br />On GitHub, the HTML representation is unable to render, please try loading this page with nbviewer.org.</b></div><div class=\"sk-container\" hidden><div class=\"sk-item\"><div class=\"sk-estimator sk-toggleable\"><input class=\"sk-toggleable__control sk-hidden--visually\" id=\"sk-estimator-id-2\" type=\"checkbox\" checked><label for=\"sk-estimator-id-2\" class=\"sk-toggleable__label sk-toggleable__label-arrow\">DecisionTreeClassifier</label><div class=\"sk-toggleable__content\"><pre>DecisionTreeClassifier(criterion=&#x27;entropy&#x27;, max_depth=4, random_state=0)</pre></div></div></div></div></div>"
      ],
      "text/plain": [
       "DecisionTreeClassifier(criterion='entropy', max_depth=4, random_state=0)"
      ]
     },
     "execution_count": 98,
     "metadata": {},
     "output_type": "execute_result"
    }
   ],
   "source": [
    "# Creación del objeto de arbol de decisión. Utilicemos como criterio de pureza la entropía.\n",
    "arbol = DecisionTreeClassifier(criterion='entropy', max_depth = 4, random_state = 0)\n",
    "arbol"
   ]
  },
  {
   "cell_type": "code",
   "execution_count": 100,
   "id": "9bf9bea0-2880-4c56-adb1-513843a840d2",
   "metadata": {},
   "outputs": [],
   "source": [
    "# Entrenamiento del modelo de arbol de decisión con los datos de entrenamiento.\n",
    "arbol = arbol.fit(X_train,Y_train)\n"
   ]
  },
  {
   "cell_type": "code",
   "execution_count": 101,
   "id": "e8358023-f31c-482a-877a-d2795635f0c6",
   "metadata": {},
   "outputs": [],
   "source": [
    "# Determinamos las predicciones del modelo sobre el conjunto test.\n",
    "y_pred = arbol.predict(X_test)"
   ]
  },
  {
   "cell_type": "code",
   "execution_count": 102,
   "id": "1ad84f16-3e0b-4f68-bb23-c48df48b080a",
   "metadata": {},
   "outputs": [],
   "source": [
    " # Se genera la matriz de confusión\n",
    "cm = confusion_matrix(Y_test, y_pred)"
   ]
  },
  {
   "cell_type": "code",
   "execution_count": 103,
   "id": "ee0f8c7c-1920-41e4-844a-63357dc24104",
   "metadata": {},
   "outputs": [
    {
     "data": {
      "image/png": "[encoded data removed]",
      "text/plain": [
       "<Figure size 640x480 with 2 Axes>"
      ]
     },
     "metadata": {},
     "output_type": "display_data"
    }
   ],
   "source": [
    "# Se puede visualizar la matriz de confusión\n",
    "#plot_confusion_matrix(arbol, X_test, Y_test)  \n",
    "disp = ConfusionMatrixDisplay(confusion_matrix=cm, display_labels=arbol.classes_)\n",
    "disp.plot(cmap=plt.cm.Reds)\n",
    "\n",
    "plt.show()"
   ]
  },
  {
   "cell_type": "code",
   "execution_count": 105,
   "id": "4defb429-e112-4e77-9e91-7214670b3a48",
   "metadata": {},
   "outputs": [
    {
     "name": "stdout",
     "output_type": "stream",
     "text": [
      "Exactitud: 1.00\n"
     ]
    }
   ],
   "source": [
    "print('Exactitud: %.2f' % accuracy_score(Y_test, y_pred))\n",
    "#print(\"Recall: {}\".format(recall_score(Y_test,y_pred)))\n",
    "#print(\"Precisión: {}\".format(precision_score(Y_test,y_pred)))\n",
    "#print(\"Puntuación F1: {}\".format(f1_score(Y_test,y_pred)))"
   ]
  },
  {
   "cell_type": "code",
   "execution_count": null,
   "id": "ca0a63e7-1904-47ea-b298-ebbc7600d2af",
   "metadata": {},
   "outputs": [],
   "source": []
  }
 ],
 "metadata": {
  "kernelspec": {
   "display_name": "Python [conda env:base] *",
   "language": "python",
   "name": "conda-base-py"
  },
  "language_info": {
   "codemirror_mode": {
    "name": "ipython",
    "version": 3
   },
   "file_extension": ".py",
   "mimetype": "text/x-python",
   "name": "python",
   "nbconvert_exporter": "python",
   "pygments_lexer": "ipython3",
   "version": "3.11.13"
  }
 },
 "nbformat": 4,
 "nbformat_minor": 5
}
